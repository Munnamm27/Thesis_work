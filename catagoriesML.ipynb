{
  "nbformat": 4,
  "nbformat_minor": 0,
  "metadata": {
    "colab": {
      "name": "catagories.ipynb",
      "provenance": []
    },
    "kernelspec": {
      "name": "python3",
      "display_name": "Python 3"
    }
  },
  "cells": [
    {
      "cell_type": "code",
      "metadata": {
        "id": "jgtGY7zzrvaQ"
      },
      "source": [
        "import pandas as pd\n",
        "#from google.colab import files\n",
        "#uploaded = files.upload()"
      ],
      "execution_count": 3,
      "outputs": []
    },
    {
      "cell_type": "code",
      "metadata": {
        "colab": {
          "base_uri": "https://localhost:8080/"
        },
        "id": "yhXcLP_UsNSD",
        "outputId": "b53a1b39-3988-49ff-a55c-52b02e72ecb6"
      },
      "source": [
        "from google.colab import drive\n",
        "drive.mount('/content/drive')"
      ],
      "execution_count": 2,
      "outputs": [
        {
          "output_type": "stream",
          "text": [
            "Drive already mounted at /content/drive; to attempt to forcibly remount, call drive.mount(\"/content/drive\", force_remount=True).\n"
          ],
          "name": "stdout"
        }
      ]
    },
    {
      "cell_type": "code",
      "metadata": {
        "id": "N2UhFE36sMcP",
        "colab": {
          "base_uri": "https://localhost:8080/",
          "height": 328
        },
        "outputId": "5c535f70-d1dd-4aec-cd3b-d8d5f9f9e099"
      },
      "source": [
        "import io\n",
        "df = pd.read_csv(io.BytesIO(uploaded['ff.csv']))\n",
        "df.head()"
      ],
      "execution_count": null,
      "outputs": [
        {
          "output_type": "execute_result",
          "data": {
            "text/html": [
              "<div>\n",
              "<style scoped>\n",
              "    .dataframe tbody tr th:only-of-type {\n",
              "        vertical-align: middle;\n",
              "    }\n",
              "\n",
              "    .dataframe tbody tr th {\n",
              "        vertical-align: top;\n",
              "    }\n",
              "\n",
              "    .dataframe thead th {\n",
              "        text-align: right;\n",
              "    }\n",
              "</style>\n",
              "<table border=\"1\" class=\"dataframe\">\n",
              "  <thead>\n",
              "    <tr style=\"text-align: right;\">\n",
              "      <th></th>\n",
              "      <th>shop</th>\n",
              "      <th>product_name</th>\n",
              "      <th>comments</th>\n",
              "      <th>quality</th>\n",
              "      <th>catagories</th>\n",
              "    </tr>\n",
              "  </thead>\n",
              "  <tbody>\n",
              "    <tr>\n",
              "      <th>0</th>\n",
              "      <td>daraz</td>\n",
              "      <td>Original i7s TWS Wireless Bluetooth AirPods Ea...</td>\n",
              "      <td>প্রোডাক্টটি অনেক সুন্দর ডেলিভারি অনেক আগে পেয়...</td>\n",
              "      <td>good</td>\n",
              "      <td>p</td>\n",
              "    </tr>\n",
              "    <tr>\n",
              "      <th>1</th>\n",
              "      <td>daraz</td>\n",
              "      <td>Water proof Mini Submersible 12 Volt 8 Watt DC...</td>\n",
              "      <td>দাম অনেক বেশি দোকানে অনেক কমদামে পাওয়া যায় ।...</td>\n",
              "      <td>bad</td>\n",
              "      <td>c</td>\n",
              "    </tr>\n",
              "    <tr>\n",
              "      <th>2</th>\n",
              "      <td>daraz</td>\n",
              "      <td>3000 mAh Rechargable Power Bank</td>\n",
              "      <td>ভালই আছে খারাপ নয়, আমি চালাচ্ছি ভালই চলছে তবে ...</td>\n",
              "      <td>good</td>\n",
              "      <td>c</td>\n",
              "    </tr>\n",
              "    <tr>\n",
              "      <th>3</th>\n",
              "      <td>daraz</td>\n",
              "      <td>Unstitched Black High Quality Cotton Fabric Ex...</td>\n",
              "      <td>faltu ekta jama👊.vuleo keo jama kinben na dara...</td>\n",
              "      <td>bad</td>\n",
              "      <td>c</td>\n",
              "    </tr>\n",
              "    <tr>\n",
              "      <th>4</th>\n",
              "      <td>daraz</td>\n",
              "      <td>Havit HV-H2116D Stereo Headset with PC Microph...</td>\n",
              "      <td>চমৎকার একটি প্রোডাক্ট। খুবই ভালো প্রোডাক্ট। বে...</td>\n",
              "      <td>good</td>\n",
              "      <td>p</td>\n",
              "    </tr>\n",
              "  </tbody>\n",
              "</table>\n",
              "</div>"
            ],
            "text/plain": [
              "    shop                                       product_name  ... quality catagories\n",
              "0  daraz  Original i7s TWS Wireless Bluetooth AirPods Ea...  ...    good          p\n",
              "1  daraz  Water proof Mini Submersible 12 Volt 8 Watt DC...  ...     bad          c\n",
              "2  daraz                    3000 mAh Rechargable Power Bank  ...    good          c\n",
              "3  daraz  Unstitched Black High Quality Cotton Fabric Ex...  ...     bad          c\n",
              "4  daraz  Havit HV-H2116D Stereo Headset with PC Microph...  ...    good          p\n",
              "\n",
              "[5 rows x 5 columns]"
            ]
          },
          "metadata": {
            "tags": []
          },
          "execution_count": 2
        }
      ]
    },
    {
      "cell_type": "code",
      "metadata": {
        "colab": {
          "base_uri": "https://localhost:8080/",
          "height": 402
        },
        "id": "46RymG7Ysbpd",
        "outputId": "7aa9340a-1769-4781-d56b-673c68e223a3"
      },
      "source": [
        "df=pd.read_excel('/content/drive/MyDrive/Munna_Research/Experiment/ecdata_new.xlsx')\r\n",
        "df"
      ],
      "execution_count": 4,
      "outputs": [
        {
          "output_type": "execute_result",
          "data": {
            "text/html": [
              "<div>\n",
              "<style scoped>\n",
              "    .dataframe tbody tr th:only-of-type {\n",
              "        vertical-align: middle;\n",
              "    }\n",
              "\n",
              "    .dataframe tbody tr th {\n",
              "        vertical-align: top;\n",
              "    }\n",
              "\n",
              "    .dataframe thead th {\n",
              "        text-align: right;\n",
              "    }\n",
              "</style>\n",
              "<table border=\"1\" class=\"dataframe\">\n",
              "  <thead>\n",
              "    <tr style=\"text-align: right;\">\n",
              "      <th></th>\n",
              "      <th>shop</th>\n",
              "      <th>product_name</th>\n",
              "      <th>comments</th>\n",
              "      <th>quality</th>\n",
              "      <th>catagories</th>\n",
              "    </tr>\n",
              "  </thead>\n",
              "  <tbody>\n",
              "    <tr>\n",
              "      <th>0</th>\n",
              "      <td>daraz</td>\n",
              "      <td>MyCell Mi10 PLUS - 2.4 Feature Phone</td>\n",
              "      <td>Recommended but phone battery cover is not as ...</td>\n",
              "      <td>bad</td>\n",
              "      <td>a</td>\n",
              "    </tr>\n",
              "    <tr>\n",
              "      <th>1</th>\n",
              "      <td>daraz</td>\n",
              "      <td>Mini Hand Sanitizer Anti-Bacterial Hand Gel 30...</td>\n",
              "      <td>thanks a lot but what is the problem you guys ...</td>\n",
              "      <td>bad</td>\n",
              "      <td>a</td>\n",
              "    </tr>\n",
              "    <tr>\n",
              "      <th>2</th>\n",
              "      <td>daraz</td>\n",
              "      <td>Vietnam hybrids coconut Tree , ১ পিস গাছের চারা</td>\n",
              "      <td>মাত্র ১১ দিনে ডেলিভারি পেয়েছি সে জন্য দারাজকে ...</td>\n",
              "      <td>bad</td>\n",
              "      <td>a</td>\n",
              "    </tr>\n",
              "    <tr>\n",
              "      <th>3</th>\n",
              "      <td>daraz</td>\n",
              "      <td>Bogesi Men Gold Artificial Leather Wallet</td>\n",
              "      <td>bogesi অরজিনাল প্রোডাক্টই পেয়েছি। ধন্যবাদ সেলর</td>\n",
              "      <td>bad</td>\n",
              "      <td>a</td>\n",
              "    </tr>\n",
              "    <tr>\n",
              "      <th>4</th>\n",
              "      <td>daraz</td>\n",
              "      <td>Craft HD LED TV - 32(Inch)</td>\n",
              "      <td>Avarege...I Faced Some Problems But Seller And...</td>\n",
              "      <td>bad</td>\n",
              "      <td>a</td>\n",
              "    </tr>\n",
              "    <tr>\n",
              "      <th>...</th>\n",
              "      <td>...</td>\n",
              "      <td>...</td>\n",
              "      <td>...</td>\n",
              "      <td>...</td>\n",
              "      <td>...</td>\n",
              "    </tr>\n",
              "    <tr>\n",
              "      <th>5104</th>\n",
              "      <td>daraz</td>\n",
              "      <td>Black and White Cotton Un-Stitched Salwar Kame...</td>\n",
              "      <td>জামাটা ঠিক আছে কিন্তু অলনা টা মিলে নাই ইমেজে দ...</td>\n",
              "      <td>good</td>\n",
              "      <td>w</td>\n",
              "    </tr>\n",
              "    <tr>\n",
              "      <th>5105</th>\n",
              "      <td>daraz</td>\n",
              "      <td>Black and White Cotton Un-Stitched Salwar Kame...</td>\n",
              "      <td>জামাটা ঠিক আছে কিন্তু অলনা টা মিলে নাই ইমেজে দ...</td>\n",
              "      <td>good</td>\n",
              "      <td>w</td>\n",
              "    </tr>\n",
              "    <tr>\n",
              "      <th>5106</th>\n",
              "      <td>daraz</td>\n",
              "      <td>Both Sided Gum Tape - 2 inch - White\\n  \\n  \\n...</td>\n",
              "      <td>orginal prodauct and draz delevery good prodau...</td>\n",
              "      <td>good</td>\n",
              "      <td>w</td>\n",
              "    </tr>\n",
              "    <tr>\n",
              "      <th>5107</th>\n",
              "      <td>daraz</td>\n",
              "      <td>2020 NEW STYLE Cotton Long Sleeve Formal Shirt...</td>\n",
              "      <td>Order r real shirt check koren\\n\\n\\n\\n\\npleaz ...</td>\n",
              "      <td>good</td>\n",
              "      <td>w</td>\n",
              "    </tr>\n",
              "    <tr>\n",
              "      <th>5108</th>\n",
              "      <td>daraz</td>\n",
              "      <td>Selfie Light for Tik tok Live Show Bright Ligh...</td>\n",
              "      <td>It is quite good. But not that much.!!!!!</td>\n",
              "      <td>good</td>\n",
              "      <td>w</td>\n",
              "    </tr>\n",
              "  </tbody>\n",
              "</table>\n",
              "<p>5109 rows × 5 columns</p>\n",
              "</div>"
            ],
            "text/plain": [
              "       shop  ... catagories\n",
              "0     daraz  ...          a\n",
              "1     daraz  ...          a\n",
              "2     daraz  ...          a\n",
              "3     daraz  ...          a\n",
              "4     daraz  ...          a\n",
              "...     ...  ...        ...\n",
              "5104  daraz  ...          w\n",
              "5105  daraz  ...          w\n",
              "5106  daraz  ...          w\n",
              "5107  daraz  ...          w\n",
              "5108  daraz  ...          w\n",
              "\n",
              "[5109 rows x 5 columns]"
            ]
          },
          "metadata": {
            "tags": []
          },
          "execution_count": 4
        }
      ]
    },
    {
      "cell_type": "code",
      "metadata": {
        "id": "UFK4VNUmsRP_"
      },
      "source": [
        "df=df.drop(['product_name','shop','quality'],axis=1)"
      ],
      "execution_count": 5,
      "outputs": []
    },
    {
      "cell_type": "code",
      "metadata": {
        "id": "WhwHY87wTedA",
        "colab": {
          "base_uri": "https://localhost:8080/"
        },
        "outputId": "43863b71-948a-4eab-d401-292117b8f970"
      },
      "source": [
        "df.catagories.unique()"
      ],
      "execution_count": 6,
      "outputs": [
        {
          "output_type": "execute_result",
          "data": {
            "text/plain": [
              "array(['a', 'c', 'r', 'w'], dtype=object)"
            ]
          },
          "metadata": {
            "tags": []
          },
          "execution_count": 6
        }
      ]
    },
    {
      "cell_type": "code",
      "metadata": {
        "id": "hScCtU76scnN",
        "colab": {
          "base_uri": "https://localhost:8080/",
          "height": 195
        },
        "outputId": "b8a6a879-eac0-4d39-adc6-0a6e68a3fa1b"
      },
      "source": [
        "df['catagories'].replace({'c':'complain','w':'wrong delevery','a':'appreciation','r':'recommended'}, inplace=True)\n",
        "df.head()"
      ],
      "execution_count": 7,
      "outputs": [
        {
          "output_type": "execute_result",
          "data": {
            "text/html": [
              "<div>\n",
              "<style scoped>\n",
              "    .dataframe tbody tr th:only-of-type {\n",
              "        vertical-align: middle;\n",
              "    }\n",
              "\n",
              "    .dataframe tbody tr th {\n",
              "        vertical-align: top;\n",
              "    }\n",
              "\n",
              "    .dataframe thead th {\n",
              "        text-align: right;\n",
              "    }\n",
              "</style>\n",
              "<table border=\"1\" class=\"dataframe\">\n",
              "  <thead>\n",
              "    <tr style=\"text-align: right;\">\n",
              "      <th></th>\n",
              "      <th>comments</th>\n",
              "      <th>catagories</th>\n",
              "    </tr>\n",
              "  </thead>\n",
              "  <tbody>\n",
              "    <tr>\n",
              "      <th>0</th>\n",
              "      <td>Recommended but phone battery cover is not as ...</td>\n",
              "      <td>appreciation</td>\n",
              "    </tr>\n",
              "    <tr>\n",
              "      <th>1</th>\n",
              "      <td>thanks a lot but what is the problem you guys ...</td>\n",
              "      <td>appreciation</td>\n",
              "    </tr>\n",
              "    <tr>\n",
              "      <th>2</th>\n",
              "      <td>মাত্র ১১ দিনে ডেলিভারি পেয়েছি সে জন্য দারাজকে ...</td>\n",
              "      <td>appreciation</td>\n",
              "    </tr>\n",
              "    <tr>\n",
              "      <th>3</th>\n",
              "      <td>bogesi অরজিনাল প্রোডাক্টই পেয়েছি। ধন্যবাদ সেলর</td>\n",
              "      <td>appreciation</td>\n",
              "    </tr>\n",
              "    <tr>\n",
              "      <th>4</th>\n",
              "      <td>Avarege...I Faced Some Problems But Seller And...</td>\n",
              "      <td>appreciation</td>\n",
              "    </tr>\n",
              "  </tbody>\n",
              "</table>\n",
              "</div>"
            ],
            "text/plain": [
              "                                            comments    catagories\n",
              "0  Recommended but phone battery cover is not as ...  appreciation\n",
              "1  thanks a lot but what is the problem you guys ...  appreciation\n",
              "2  মাত্র ১১ দিনে ডেলিভারি পেয়েছি সে জন্য দারাজকে ...  appreciation\n",
              "3    bogesi অরজিনাল প্রোডাক্টই পেয়েছি। ধন্যবাদ সেলর   appreciation\n",
              "4  Avarege...I Faced Some Problems But Seller And...  appreciation"
            ]
          },
          "metadata": {
            "tags": []
          },
          "execution_count": 7
        }
      ]
    },
    {
      "cell_type": "code",
      "metadata": {
        "id": "pAzRJmy4swZW",
        "colab": {
          "base_uri": "https://localhost:8080/"
        },
        "outputId": "49045073-4b33-4f51-9550-b644b9edc0ca"
      },
      "source": [
        "df.catagories.unique()"
      ],
      "execution_count": 8,
      "outputs": [
        {
          "output_type": "execute_result",
          "data": {
            "text/plain": [
              "array(['appreciation', 'complain', 'recommended', 'wrong delevery'],\n",
              "      dtype=object)"
            ]
          },
          "metadata": {
            "tags": []
          },
          "execution_count": 8
        }
      ]
    },
    {
      "cell_type": "code",
      "metadata": {
        "id": "YfUkZWGltTAI",
        "colab": {
          "base_uri": "https://localhost:8080/",
          "height": 402
        },
        "outputId": "81a48350-569e-4a59-ea9f-60e7299c132b"
      },
      "source": [
        "df=df.dropna()\n",
        "df"
      ],
      "execution_count": 9,
      "outputs": [
        {
          "output_type": "execute_result",
          "data": {
            "text/html": [
              "<div>\n",
              "<style scoped>\n",
              "    .dataframe tbody tr th:only-of-type {\n",
              "        vertical-align: middle;\n",
              "    }\n",
              "\n",
              "    .dataframe tbody tr th {\n",
              "        vertical-align: top;\n",
              "    }\n",
              "\n",
              "    .dataframe thead th {\n",
              "        text-align: right;\n",
              "    }\n",
              "</style>\n",
              "<table border=\"1\" class=\"dataframe\">\n",
              "  <thead>\n",
              "    <tr style=\"text-align: right;\">\n",
              "      <th></th>\n",
              "      <th>comments</th>\n",
              "      <th>catagories</th>\n",
              "    </tr>\n",
              "  </thead>\n",
              "  <tbody>\n",
              "    <tr>\n",
              "      <th>0</th>\n",
              "      <td>Recommended but phone battery cover is not as ...</td>\n",
              "      <td>appreciation</td>\n",
              "    </tr>\n",
              "    <tr>\n",
              "      <th>1</th>\n",
              "      <td>thanks a lot but what is the problem you guys ...</td>\n",
              "      <td>appreciation</td>\n",
              "    </tr>\n",
              "    <tr>\n",
              "      <th>2</th>\n",
              "      <td>মাত্র ১১ দিনে ডেলিভারি পেয়েছি সে জন্য দারাজকে ...</td>\n",
              "      <td>appreciation</td>\n",
              "    </tr>\n",
              "    <tr>\n",
              "      <th>3</th>\n",
              "      <td>bogesi অরজিনাল প্রোডাক্টই পেয়েছি। ধন্যবাদ সেলর</td>\n",
              "      <td>appreciation</td>\n",
              "    </tr>\n",
              "    <tr>\n",
              "      <th>4</th>\n",
              "      <td>Avarege...I Faced Some Problems But Seller And...</td>\n",
              "      <td>appreciation</td>\n",
              "    </tr>\n",
              "    <tr>\n",
              "      <th>...</th>\n",
              "      <td>...</td>\n",
              "      <td>...</td>\n",
              "    </tr>\n",
              "    <tr>\n",
              "      <th>5104</th>\n",
              "      <td>জামাটা ঠিক আছে কিন্তু অলনা টা মিলে নাই ইমেজে দ...</td>\n",
              "      <td>wrong delevery</td>\n",
              "    </tr>\n",
              "    <tr>\n",
              "      <th>5105</th>\n",
              "      <td>জামাটা ঠিক আছে কিন্তু অলনা টা মিলে নাই ইমেজে দ...</td>\n",
              "      <td>wrong delevery</td>\n",
              "    </tr>\n",
              "    <tr>\n",
              "      <th>5106</th>\n",
              "      <td>orginal prodauct and draz delevery good prodau...</td>\n",
              "      <td>wrong delevery</td>\n",
              "    </tr>\n",
              "    <tr>\n",
              "      <th>5107</th>\n",
              "      <td>Order r real shirt check koren\\n\\n\\n\\n\\npleaz ...</td>\n",
              "      <td>wrong delevery</td>\n",
              "    </tr>\n",
              "    <tr>\n",
              "      <th>5108</th>\n",
              "      <td>It is quite good. But not that much.!!!!!</td>\n",
              "      <td>wrong delevery</td>\n",
              "    </tr>\n",
              "  </tbody>\n",
              "</table>\n",
              "<p>5109 rows × 2 columns</p>\n",
              "</div>"
            ],
            "text/plain": [
              "                                               comments      catagories\n",
              "0     Recommended but phone battery cover is not as ...    appreciation\n",
              "1     thanks a lot but what is the problem you guys ...    appreciation\n",
              "2     মাত্র ১১ দিনে ডেলিভারি পেয়েছি সে জন্য দারাজকে ...    appreciation\n",
              "3       bogesi অরজিনাল প্রোডাক্টই পেয়েছি। ধন্যবাদ সেলর     appreciation\n",
              "4     Avarege...I Faced Some Problems But Seller And...    appreciation\n",
              "...                                                 ...             ...\n",
              "5104  জামাটা ঠিক আছে কিন্তু অলনা টা মিলে নাই ইমেজে দ...  wrong delevery\n",
              "5105  জামাটা ঠিক আছে কিন্তু অলনা টা মিলে নাই ইমেজে দ...  wrong delevery\n",
              "5106  orginal prodauct and draz delevery good prodau...  wrong delevery\n",
              "5107  Order r real shirt check koren\\n\\n\\n\\n\\npleaz ...  wrong delevery\n",
              "5108          It is quite good. But not that much.!!!!!  wrong delevery\n",
              "\n",
              "[5109 rows x 2 columns]"
            ]
          },
          "metadata": {
            "tags": []
          },
          "execution_count": 9
        }
      ]
    },
    {
      "cell_type": "code",
      "metadata": {
        "id": "7-1TyupIt4zz"
      },
      "source": [
        "from nltk.stem.porter import PorterStemmer\n",
        "\n",
        "porter=PorterStemmer()\n",
        "def tokenizer_porter(text):\n",
        "    return [porter.stem(word) for word in text.split()]"
      ],
      "execution_count": 10,
      "outputs": []
    },
    {
      "cell_type": "code",
      "metadata": {
        "id": "IRTnCeuIwJab"
      },
      "source": [
        ""
      ],
      "execution_count": null,
      "outputs": []
    },
    {
      "cell_type": "code",
      "metadata": {
        "id": "Lrl0uxMHtXAa"
      },
      "source": [
        "import re\n",
        "def preprocessor(text):\n",
        "    text = re.sub('<[^>]*>', '', text)\n",
        "    emoticons = re.findall('(?::|;|=)(?:-)?(?:\\)|\\(|D|P)', text)\n",
        "    text = re.sub('[\\W]+', ' ', text.lower()) +\\\n",
        "        ' '.join(emoticons).replace('-', '')\n",
        "    return text\n",
        "df['comments']=df['comments'].apply(preprocessor)"
      ],
      "execution_count": 11,
      "outputs": []
    },
    {
      "cell_type": "code",
      "metadata": {
        "id": "T2E-9qULtj6l"
      },
      "source": [
        "from sklearn.feature_extraction.text import TfidfVectorizer\n",
        "tfidf=TfidfVectorizer(strip_accents= None,\n",
        "                    lowercase=False,\n",
        "                    preprocessor=None,\n",
        "                    tokenizer=tokenizer_porter,\n",
        "                    norm='l2',\n",
        "                    smooth_idf=True )\n",
        "y=df.catagories.values\n",
        "X=tfidf.fit_transform(df.comments)\n"
      ],
      "execution_count": 12,
      "outputs": []
    },
    {
      "cell_type": "code",
      "metadata": {
        "id": "Ucf3IVQFuOTD"
      },
      "source": [
        "from sklearn.model_selection import train_test_split\n",
        "X_train, X_test, y_train, y_test = train_test_split(X,y, random_state= 44, test_size=0.2)\n",
        "                                                   "
      ],
      "execution_count": 13,
      "outputs": []
    },
    {
      "cell_type": "markdown",
      "metadata": {
        "id": "u443NXshu6OQ"
      },
      "source": [
        "LOGISTIC REGRATION\n",
        "\n"
      ]
    },
    {
      "cell_type": "code",
      "metadata": {
        "id": "JPpSp0Dvu5Om",
        "colab": {
          "base_uri": "https://localhost:8080/"
        },
        "outputId": "81f9bbcf-25a0-4e6a-a792-ed4d45b741d7"
      },
      "source": [
        "from sklearn.linear_model import LogisticRegression\n",
        "lc = LogisticRegression()\n",
        "lc.fit(X_train, y_train)"
      ],
      "execution_count": 14,
      "outputs": [
        {
          "output_type": "execute_result",
          "data": {
            "text/plain": [
              "LogisticRegression(C=1.0, class_weight=None, dual=False, fit_intercept=True,\n",
              "                   intercept_scaling=1, l1_ratio=None, max_iter=100,\n",
              "                   multi_class='auto', n_jobs=None, penalty='l2',\n",
              "                   random_state=None, solver='lbfgs', tol=0.0001, verbose=0,\n",
              "                   warm_start=False)"
            ]
          },
          "metadata": {
            "tags": []
          },
          "execution_count": 14
        }
      ]
    },
    {
      "cell_type": "code",
      "metadata": {
        "id": "1gpDpzXiVe8w"
      },
      "source": [
        "from sklearn.metrics import confusion_matrix\n",
        "from sklearn.metrics import classification_report\n",
        "from sklearn.metrics import accuracy_score\n",
        "pred=lc.predict(X_test)"
      ],
      "execution_count": 22,
      "outputs": []
    },
    {
      "cell_type": "code",
      "metadata": {
        "colab": {
          "base_uri": "https://localhost:8080/"
        },
        "id": "hSuyepLNtMC1",
        "outputId": "b7bf29d2-37f6-41c6-a9c8-a29c4bb70315"
      },
      "source": [
        "print(classification_report(y_test,pred))"
      ],
      "execution_count": 25,
      "outputs": [
        {
          "output_type": "stream",
          "text": [
            "                precision    recall  f1-score   support\n",
            "\n",
            "  appreciation       0.92      0.65      0.76       231\n",
            "      complain       0.73      0.92      0.82       381\n",
            "   recommended       0.78      0.79      0.78       332\n",
            "wrong delevery       0.78      0.46      0.58        78\n",
            "\n",
            "      accuracy                           0.78      1022\n",
            "     macro avg       0.80      0.70      0.74      1022\n",
            "  weighted avg       0.79      0.78      0.78      1022\n",
            "\n"
          ],
          "name": "stdout"
        }
      ]
    },
    {
      "cell_type": "code",
      "metadata": {
        "id": "FVSDHJDlV0AI",
        "colab": {
          "base_uri": "https://localhost:8080/",
          "height": 166
        },
        "outputId": "bc1beb77-cfae-4698-f75b-4a725387a76a"
      },
      "source": [
        "mat = confusion_matrix(pred, y_test)\n",
        "pd.DataFrame(mat)"
      ],
      "execution_count": 29,
      "outputs": [
        {
          "output_type": "execute_result",
          "data": {
            "text/html": [
              "<div>\n",
              "<style scoped>\n",
              "    .dataframe tbody tr th:only-of-type {\n",
              "        vertical-align: middle;\n",
              "    }\n",
              "\n",
              "    .dataframe tbody tr th {\n",
              "        vertical-align: top;\n",
              "    }\n",
              "\n",
              "    .dataframe thead th {\n",
              "        text-align: right;\n",
              "    }\n",
              "</style>\n",
              "<table border=\"1\" class=\"dataframe\">\n",
              "  <thead>\n",
              "    <tr style=\"text-align: right;\">\n",
              "      <th></th>\n",
              "      <th>0</th>\n",
              "      <th>1</th>\n",
              "      <th>2</th>\n",
              "      <th>3</th>\n",
              "    </tr>\n",
              "  </thead>\n",
              "  <tbody>\n",
              "    <tr>\n",
              "      <th>0</th>\n",
              "      <td>150</td>\n",
              "      <td>1</td>\n",
              "      <td>12</td>\n",
              "      <td>0</td>\n",
              "    </tr>\n",
              "    <tr>\n",
              "      <th>1</th>\n",
              "      <td>35</td>\n",
              "      <td>351</td>\n",
              "      <td>55</td>\n",
              "      <td>37</td>\n",
              "    </tr>\n",
              "    <tr>\n",
              "      <th>2</th>\n",
              "      <td>44</td>\n",
              "      <td>25</td>\n",
              "      <td>261</td>\n",
              "      <td>5</td>\n",
              "    </tr>\n",
              "    <tr>\n",
              "      <th>3</th>\n",
              "      <td>2</td>\n",
              "      <td>4</td>\n",
              "      <td>4</td>\n",
              "      <td>36</td>\n",
              "    </tr>\n",
              "  </tbody>\n",
              "</table>\n",
              "</div>"
            ],
            "text/plain": [
              "     0    1    2   3\n",
              "0  150    1   12   0\n",
              "1   35  351   55  37\n",
              "2   44   25  261   5\n",
              "3    2    4    4  36"
            ]
          },
          "metadata": {
            "tags": []
          },
          "execution_count": 29
        }
      ]
    },
    {
      "cell_type": "markdown",
      "metadata": {
        "id": "gTQBCgrVygXL"
      },
      "source": [
        "KNN\r\n"
      ]
    },
    {
      "cell_type": "code",
      "metadata": {
        "id": "PdbE63AJ0QrK",
        "colab": {
          "base_uri": "https://localhost:8080/"
        },
        "outputId": "02090ff9-3b47-43ec-bc89-33aeddeb1502"
      },
      "source": [
        "from sklearn.neighbors import KNeighborsClassifier\n",
        "neigh = KNeighborsClassifier(n_neighbors=6)\n",
        "neigh.fit(X_train, y_train)"
      ],
      "execution_count": 38,
      "outputs": [
        {
          "output_type": "execute_result",
          "data": {
            "text/plain": [
              "KNeighborsClassifier(algorithm='auto', leaf_size=30, metric='minkowski',\n",
              "                     metric_params=None, n_jobs=None, n_neighbors=6, p=2,\n",
              "                     weights='uniform')"
            ]
          },
          "metadata": {
            "tags": []
          },
          "execution_count": 38
        }
      ]
    },
    {
      "cell_type": "code",
      "metadata": {
        "colab": {
          "base_uri": "https://localhost:8080/",
          "height": 350
        },
        "id": "4QyGYgusv2tN",
        "outputId": "660c233a-ae7d-4d42-dba9-fbded5c1cd19"
      },
      "source": [
        "pred=neigh.predict(X_test)\r\n",
        "print(classification_report(y_test,pred))\r\n",
        "mat = confusion_matrix(pred, y_test)\r\n",
        "pd.DataFrame(mat)"
      ],
      "execution_count": 40,
      "outputs": [
        {
          "output_type": "stream",
          "text": [
            "                precision    recall  f1-score   support\n",
            "\n",
            "  appreciation       0.63      0.57      0.60       231\n",
            "      complain       0.77      0.72      0.74       381\n",
            "   recommended       0.62      0.72      0.67       332\n",
            "wrong delevery       0.65      0.59      0.62        78\n",
            "\n",
            "      accuracy                           0.68      1022\n",
            "     macro avg       0.67      0.65      0.66      1022\n",
            "  weighted avg       0.68      0.68      0.68      1022\n",
            "\n"
          ],
          "name": "stdout"
        },
        {
          "output_type": "execute_result",
          "data": {
            "text/html": [
              "<div>\n",
              "<style scoped>\n",
              "    .dataframe tbody tr th:only-of-type {\n",
              "        vertical-align: middle;\n",
              "    }\n",
              "\n",
              "    .dataframe tbody tr th {\n",
              "        vertical-align: top;\n",
              "    }\n",
              "\n",
              "    .dataframe thead th {\n",
              "        text-align: right;\n",
              "    }\n",
              "</style>\n",
              "<table border=\"1\" class=\"dataframe\">\n",
              "  <thead>\n",
              "    <tr style=\"text-align: right;\">\n",
              "      <th></th>\n",
              "      <th>0</th>\n",
              "      <th>1</th>\n",
              "      <th>2</th>\n",
              "      <th>3</th>\n",
              "    </tr>\n",
              "  </thead>\n",
              "  <tbody>\n",
              "    <tr>\n",
              "      <th>0</th>\n",
              "      <td>131</td>\n",
              "      <td>21</td>\n",
              "      <td>49</td>\n",
              "      <td>6</td>\n",
              "    </tr>\n",
              "    <tr>\n",
              "      <th>1</th>\n",
              "      <td>25</td>\n",
              "      <td>275</td>\n",
              "      <td>40</td>\n",
              "      <td>19</td>\n",
              "    </tr>\n",
              "    <tr>\n",
              "      <th>2</th>\n",
              "      <td>70</td>\n",
              "      <td>68</td>\n",
              "      <td>240</td>\n",
              "      <td>7</td>\n",
              "    </tr>\n",
              "    <tr>\n",
              "      <th>3</th>\n",
              "      <td>5</td>\n",
              "      <td>17</td>\n",
              "      <td>3</td>\n",
              "      <td>46</td>\n",
              "    </tr>\n",
              "  </tbody>\n",
              "</table>\n",
              "</div>"
            ],
            "text/plain": [
              "     0    1    2   3\n",
              "0  131   21   49   6\n",
              "1   25  275   40  19\n",
              "2   70   68  240   7\n",
              "3    5   17    3  46"
            ]
          },
          "metadata": {
            "tags": []
          },
          "execution_count": 40
        }
      ]
    }
  ]
}