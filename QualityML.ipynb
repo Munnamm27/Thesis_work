{
  "nbformat": 4,
  "nbformat_minor": 0,
  "metadata": {
    "colab": {
      "name": "THESIS.ipynb",
      "provenance": []
    },
    "kernelspec": {
      "name": "python3",
      "display_name": "Python 3"
    }
  },
  "cells": [
    {
      "cell_type": "code",
      "metadata": {
        "id": "jgtGY7zzrvaQ"
      },
      "source": [
        "import pandas as pd\n",
        "#from google.colab import files\n",
        "#uploaded = files.upload()"
      ],
      "execution_count": 3,
      "outputs": []
    },
    {
      "cell_type": "code",
      "metadata": {
        "colab": {
          "base_uri": "https://localhost:8080/"
        },
        "id": "yhXcLP_UsNSD",
        "outputId": "b53a1b39-3988-49ff-a55c-52b02e72ecb6"
      },
      "source": [
        "from google.colab import drive\n",
        "drive.mount('/content/drive')"
      ],
      "execution_count": 2,
      "outputs": [
        {
          "output_type": "stream",
          "text": [
            "Drive already mounted at /content/drive; to attempt to forcibly remount, call drive.mount(\"/content/drive\", force_remount=True).\n"
          ],
          "name": "stdout"
        }
      ]
    },
    {
      "cell_type": "code",
      "metadata": {
        "colab": {
          "base_uri": "https://localhost:8080/",
          "height": 402
        },
        "id": "46RymG7Ysbpd",
        "outputId": "049dde70-16bd-4bdb-cdee-fd5c53d76b80"
      },
      "source": [
        "df=pd.read_excel('/content/drive/MyDrive/Munna_Research/Experiment/ecdata_new.xlsx')\r\n",
        "df"
      ],
      "execution_count": 45,
      "outputs": [
        {
          "output_type": "execute_result",
          "data": {
            "text/html": [
              "<div>\n",
              "<style scoped>\n",
              "    .dataframe tbody tr th:only-of-type {\n",
              "        vertical-align: middle;\n",
              "    }\n",
              "\n",
              "    .dataframe tbody tr th {\n",
              "        vertical-align: top;\n",
              "    }\n",
              "\n",
              "    .dataframe thead th {\n",
              "        text-align: right;\n",
              "    }\n",
              "</style>\n",
              "<table border=\"1\" class=\"dataframe\">\n",
              "  <thead>\n",
              "    <tr style=\"text-align: right;\">\n",
              "      <th></th>\n",
              "      <th>shop</th>\n",
              "      <th>product_name</th>\n",
              "      <th>comments</th>\n",
              "      <th>quality</th>\n",
              "      <th>catagories</th>\n",
              "    </tr>\n",
              "  </thead>\n",
              "  <tbody>\n",
              "    <tr>\n",
              "      <th>0</th>\n",
              "      <td>daraz</td>\n",
              "      <td>MyCell Mi10 PLUS - 2.4 Feature Phone</td>\n",
              "      <td>Recommended but phone battery cover is not as ...</td>\n",
              "      <td>bad</td>\n",
              "      <td>a</td>\n",
              "    </tr>\n",
              "    <tr>\n",
              "      <th>1</th>\n",
              "      <td>daraz</td>\n",
              "      <td>Mini Hand Sanitizer Anti-Bacterial Hand Gel 30...</td>\n",
              "      <td>thanks a lot but what is the problem you guys ...</td>\n",
              "      <td>bad</td>\n",
              "      <td>a</td>\n",
              "    </tr>\n",
              "    <tr>\n",
              "      <th>2</th>\n",
              "      <td>daraz</td>\n",
              "      <td>Vietnam hybrids coconut Tree , ১ পিস গাছের চারা</td>\n",
              "      <td>মাত্র ১১ দিনে ডেলিভারি পেয়েছি সে জন্য দারাজকে ...</td>\n",
              "      <td>bad</td>\n",
              "      <td>a</td>\n",
              "    </tr>\n",
              "    <tr>\n",
              "      <th>3</th>\n",
              "      <td>daraz</td>\n",
              "      <td>Bogesi Men Gold Artificial Leather Wallet</td>\n",
              "      <td>bogesi অরজিনাল প্রোডাক্টই পেয়েছি। ধন্যবাদ সেলর</td>\n",
              "      <td>bad</td>\n",
              "      <td>a</td>\n",
              "    </tr>\n",
              "    <tr>\n",
              "      <th>4</th>\n",
              "      <td>daraz</td>\n",
              "      <td>Craft HD LED TV - 32(Inch)</td>\n",
              "      <td>Avarege...I Faced Some Problems But Seller And...</td>\n",
              "      <td>bad</td>\n",
              "      <td>a</td>\n",
              "    </tr>\n",
              "    <tr>\n",
              "      <th>...</th>\n",
              "      <td>...</td>\n",
              "      <td>...</td>\n",
              "      <td>...</td>\n",
              "      <td>...</td>\n",
              "      <td>...</td>\n",
              "    </tr>\n",
              "    <tr>\n",
              "      <th>5104</th>\n",
              "      <td>daraz</td>\n",
              "      <td>Black and White Cotton Un-Stitched Salwar Kame...</td>\n",
              "      <td>জামাটা ঠিক আছে কিন্তু অলনা টা মিলে নাই ইমেজে দ...</td>\n",
              "      <td>good</td>\n",
              "      <td>w</td>\n",
              "    </tr>\n",
              "    <tr>\n",
              "      <th>5105</th>\n",
              "      <td>daraz</td>\n",
              "      <td>Black and White Cotton Un-Stitched Salwar Kame...</td>\n",
              "      <td>জামাটা ঠিক আছে কিন্তু অলনা টা মিলে নাই ইমেজে দ...</td>\n",
              "      <td>good</td>\n",
              "      <td>w</td>\n",
              "    </tr>\n",
              "    <tr>\n",
              "      <th>5106</th>\n",
              "      <td>daraz</td>\n",
              "      <td>Both Sided Gum Tape - 2 inch - White\\n  \\n  \\n...</td>\n",
              "      <td>orginal prodauct and draz delevery good prodau...</td>\n",
              "      <td>good</td>\n",
              "      <td>w</td>\n",
              "    </tr>\n",
              "    <tr>\n",
              "      <th>5107</th>\n",
              "      <td>daraz</td>\n",
              "      <td>2020 NEW STYLE Cotton Long Sleeve Formal Shirt...</td>\n",
              "      <td>Order r real shirt check koren\\n\\n\\n\\n\\npleaz ...</td>\n",
              "      <td>good</td>\n",
              "      <td>w</td>\n",
              "    </tr>\n",
              "    <tr>\n",
              "      <th>5108</th>\n",
              "      <td>daraz</td>\n",
              "      <td>Selfie Light for Tik tok Live Show Bright Ligh...</td>\n",
              "      <td>It is quite good. But not that much.!!!!!</td>\n",
              "      <td>good</td>\n",
              "      <td>w</td>\n",
              "    </tr>\n",
              "  </tbody>\n",
              "</table>\n",
              "<p>5109 rows × 5 columns</p>\n",
              "</div>"
            ],
            "text/plain": [
              "       shop  ... catagories\n",
              "0     daraz  ...          a\n",
              "1     daraz  ...          a\n",
              "2     daraz  ...          a\n",
              "3     daraz  ...          a\n",
              "4     daraz  ...          a\n",
              "...     ...  ...        ...\n",
              "5104  daraz  ...          w\n",
              "5105  daraz  ...          w\n",
              "5106  daraz  ...          w\n",
              "5107  daraz  ...          w\n",
              "5108  daraz  ...          w\n",
              "\n",
              "[5109 rows x 5 columns]"
            ]
          },
          "metadata": {
            "tags": []
          },
          "execution_count": 45
        }
      ]
    },
    {
      "cell_type": "code",
      "metadata": {
        "id": "UFK4VNUmsRP_"
      },
      "source": [
        "#df=df.drop(['product_name','shop','quality'],axis=1)\r\n",
        "df=df.drop(['product_name','shop','catagories'],axis=1)"
      ],
      "execution_count": 46,
      "outputs": []
    },
    {
      "cell_type": "code",
      "metadata": {
        "id": "WhwHY87wTedA",
        "colab": {
          "base_uri": "https://localhost:8080/"
        },
        "outputId": "162e446f-1d9c-4c8b-b545-3170fc63d79e"
      },
      "source": [
        "#df.catagories.unique()\r\n",
        "df.quality.unique()"
      ],
      "execution_count": 50,
      "outputs": [
        {
          "output_type": "execute_result",
          "data": {
            "text/plain": [
              "array(['bad', 'good'], dtype=object)"
            ]
          },
          "metadata": {
            "tags": []
          },
          "execution_count": 50
        }
      ]
    },
    {
      "cell_type": "code",
      "metadata": {
        "id": "hScCtU76scnN",
        "colab": {
          "base_uri": "https://localhost:8080/",
          "height": 195
        },
        "outputId": "dd7e0132-a5a7-427f-99b7-9da448527a10"
      },
      "source": [
        "#df['catagories'].replace({'c':'complain','w':'wrong delevery','a':'appreciation','r':'recommended'}, inplace=True)\n",
        "df['quality'].replace({'bad ':'bad'}, inplace=True)\n",
        "df.head()"
      ],
      "execution_count": 49,
      "outputs": [
        {
          "output_type": "execute_result",
          "data": {
            "text/html": [
              "<div>\n",
              "<style scoped>\n",
              "    .dataframe tbody tr th:only-of-type {\n",
              "        vertical-align: middle;\n",
              "    }\n",
              "\n",
              "    .dataframe tbody tr th {\n",
              "        vertical-align: top;\n",
              "    }\n",
              "\n",
              "    .dataframe thead th {\n",
              "        text-align: right;\n",
              "    }\n",
              "</style>\n",
              "<table border=\"1\" class=\"dataframe\">\n",
              "  <thead>\n",
              "    <tr style=\"text-align: right;\">\n",
              "      <th></th>\n",
              "      <th>comments</th>\n",
              "      <th>quality</th>\n",
              "    </tr>\n",
              "  </thead>\n",
              "  <tbody>\n",
              "    <tr>\n",
              "      <th>0</th>\n",
              "      <td>Recommended but phone battery cover is not as ...</td>\n",
              "      <td>bad</td>\n",
              "    </tr>\n",
              "    <tr>\n",
              "      <th>1</th>\n",
              "      <td>thanks a lot but what is the problem you guys ...</td>\n",
              "      <td>bad</td>\n",
              "    </tr>\n",
              "    <tr>\n",
              "      <th>2</th>\n",
              "      <td>মাত্র ১১ দিনে ডেলিভারি পেয়েছি সে জন্য দারাজকে ...</td>\n",
              "      <td>bad</td>\n",
              "    </tr>\n",
              "    <tr>\n",
              "      <th>3</th>\n",
              "      <td>bogesi অরজিনাল প্রোডাক্টই পেয়েছি। ধন্যবাদ সেলর</td>\n",
              "      <td>bad</td>\n",
              "    </tr>\n",
              "    <tr>\n",
              "      <th>4</th>\n",
              "      <td>Avarege...I Faced Some Problems But Seller And...</td>\n",
              "      <td>bad</td>\n",
              "    </tr>\n",
              "  </tbody>\n",
              "</table>\n",
              "</div>"
            ],
            "text/plain": [
              "                                            comments quality\n",
              "0  Recommended but phone battery cover is not as ...     bad\n",
              "1  thanks a lot but what is the problem you guys ...     bad\n",
              "2  মাত্র ১১ দিনে ডেলিভারি পেয়েছি সে জন্য দারাজকে ...     bad\n",
              "3    bogesi অরজিনাল প্রোডাক্টই পেয়েছি। ধন্যবাদ সেলর      bad\n",
              "4  Avarege...I Faced Some Problems But Seller And...     bad"
            ]
          },
          "metadata": {
            "tags": []
          },
          "execution_count": 49
        }
      ]
    },
    {
      "cell_type": "code",
      "metadata": {
        "id": "pAzRJmy4swZW",
        "colab": {
          "base_uri": "https://localhost:8080/"
        },
        "outputId": "49045073-4b33-4f51-9550-b644b9edc0ca"
      },
      "source": [
        "df.catagories.unique()"
      ],
      "execution_count": 8,
      "outputs": [
        {
          "output_type": "execute_result",
          "data": {
            "text/plain": [
              "array(['appreciation', 'complain', 'recommended', 'wrong delevery'],\n",
              "      dtype=object)"
            ]
          },
          "metadata": {
            "tags": []
          },
          "execution_count": 8
        }
      ]
    },
    {
      "cell_type": "code",
      "metadata": {
        "id": "YfUkZWGltTAI",
        "colab": {
          "base_uri": "https://localhost:8080/",
          "height": 402
        },
        "outputId": "fdccc1aa-7e7a-4db6-d739-14f43b37587e"
      },
      "source": [
        "df=df.dropna()\n",
        "df"
      ],
      "execution_count": 51,
      "outputs": [
        {
          "output_type": "execute_result",
          "data": {
            "text/html": [
              "<div>\n",
              "<style scoped>\n",
              "    .dataframe tbody tr th:only-of-type {\n",
              "        vertical-align: middle;\n",
              "    }\n",
              "\n",
              "    .dataframe tbody tr th {\n",
              "        vertical-align: top;\n",
              "    }\n",
              "\n",
              "    .dataframe thead th {\n",
              "        text-align: right;\n",
              "    }\n",
              "</style>\n",
              "<table border=\"1\" class=\"dataframe\">\n",
              "  <thead>\n",
              "    <tr style=\"text-align: right;\">\n",
              "      <th></th>\n",
              "      <th>comments</th>\n",
              "      <th>quality</th>\n",
              "    </tr>\n",
              "  </thead>\n",
              "  <tbody>\n",
              "    <tr>\n",
              "      <th>0</th>\n",
              "      <td>Recommended but phone battery cover is not as ...</td>\n",
              "      <td>bad</td>\n",
              "    </tr>\n",
              "    <tr>\n",
              "      <th>1</th>\n",
              "      <td>thanks a lot but what is the problem you guys ...</td>\n",
              "      <td>bad</td>\n",
              "    </tr>\n",
              "    <tr>\n",
              "      <th>2</th>\n",
              "      <td>মাত্র ১১ দিনে ডেলিভারি পেয়েছি সে জন্য দারাজকে ...</td>\n",
              "      <td>bad</td>\n",
              "    </tr>\n",
              "    <tr>\n",
              "      <th>3</th>\n",
              "      <td>bogesi অরজিনাল প্রোডাক্টই পেয়েছি। ধন্যবাদ সেলর</td>\n",
              "      <td>bad</td>\n",
              "    </tr>\n",
              "    <tr>\n",
              "      <th>4</th>\n",
              "      <td>Avarege...I Faced Some Problems But Seller And...</td>\n",
              "      <td>bad</td>\n",
              "    </tr>\n",
              "    <tr>\n",
              "      <th>...</th>\n",
              "      <td>...</td>\n",
              "      <td>...</td>\n",
              "    </tr>\n",
              "    <tr>\n",
              "      <th>5104</th>\n",
              "      <td>জামাটা ঠিক আছে কিন্তু অলনা টা মিলে নাই ইমেজে দ...</td>\n",
              "      <td>good</td>\n",
              "    </tr>\n",
              "    <tr>\n",
              "      <th>5105</th>\n",
              "      <td>জামাটা ঠিক আছে কিন্তু অলনা টা মিলে নাই ইমেজে দ...</td>\n",
              "      <td>good</td>\n",
              "    </tr>\n",
              "    <tr>\n",
              "      <th>5106</th>\n",
              "      <td>orginal prodauct and draz delevery good prodau...</td>\n",
              "      <td>good</td>\n",
              "    </tr>\n",
              "    <tr>\n",
              "      <th>5107</th>\n",
              "      <td>Order r real shirt check koren\\n\\n\\n\\n\\npleaz ...</td>\n",
              "      <td>good</td>\n",
              "    </tr>\n",
              "    <tr>\n",
              "      <th>5108</th>\n",
              "      <td>It is quite good. But not that much.!!!!!</td>\n",
              "      <td>good</td>\n",
              "    </tr>\n",
              "  </tbody>\n",
              "</table>\n",
              "<p>5109 rows × 2 columns</p>\n",
              "</div>"
            ],
            "text/plain": [
              "                                               comments quality\n",
              "0     Recommended but phone battery cover is not as ...     bad\n",
              "1     thanks a lot but what is the problem you guys ...     bad\n",
              "2     মাত্র ১১ দিনে ডেলিভারি পেয়েছি সে জন্য দারাজকে ...     bad\n",
              "3       bogesi অরজিনাল প্রোডাক্টই পেয়েছি। ধন্যবাদ সেলর      bad\n",
              "4     Avarege...I Faced Some Problems But Seller And...     bad\n",
              "...                                                 ...     ...\n",
              "5104  জামাটা ঠিক আছে কিন্তু অলনা টা মিলে নাই ইমেজে দ...    good\n",
              "5105  জামাটা ঠিক আছে কিন্তু অলনা টা মিলে নাই ইমেজে দ...    good\n",
              "5106  orginal prodauct and draz delevery good prodau...    good\n",
              "5107  Order r real shirt check koren\\n\\n\\n\\n\\npleaz ...    good\n",
              "5108          It is quite good. But not that much.!!!!!    good\n",
              "\n",
              "[5109 rows x 2 columns]"
            ]
          },
          "metadata": {
            "tags": []
          },
          "execution_count": 51
        }
      ]
    },
    {
      "cell_type": "code",
      "metadata": {
        "id": "7-1TyupIt4zz"
      },
      "source": [
        "from nltk.stem.porter import PorterStemmer\n",
        "\n",
        "porter=PorterStemmer()\n",
        "def tokenizer_porter(text):\n",
        "    return [porter.stem(word) for word in text.split()]"
      ],
      "execution_count": 56,
      "outputs": []
    },
    {
      "cell_type": "code",
      "metadata": {
        "id": "IRTnCeuIwJab"
      },
      "source": [
        ""
      ],
      "execution_count": null,
      "outputs": []
    },
    {
      "cell_type": "code",
      "metadata": {
        "id": "Lrl0uxMHtXAa"
      },
      "source": [
        "import re\n",
        "def preprocessor(text):\n",
        "    text = re.sub('<[^>]*>', '', text)\n",
        "    emoticons = re.findall('(?::|;|=)(?:-)?(?:\\)|\\(|D|P)', text)\n",
        "    text = re.sub('[\\W]+', ' ', text.lower()) +\\\n",
        "        ' '.join(emoticons).replace('-', '')\n",
        "    return text\n",
        "df['comments']=df['comments'].apply(preprocessor)"
      ],
      "execution_count": 55,
      "outputs": []
    },
    {
      "cell_type": "code",
      "metadata": {
        "id": "T2E-9qULtj6l"
      },
      "source": [
        "from sklearn.feature_extraction.text import TfidfVectorizer\n",
        "tfidf=TfidfVectorizer(strip_accents= None,\n",
        "                    lowercase=False,\n",
        "                    preprocessor=None,\n",
        "                    tokenizer=tokenizer_porter,\n",
        "                    norm='l2',\n",
        "                    smooth_idf=True )\n",
        "#y=df.catagories.values\n",
        "y=df.quality.values\n",
        "X=tfidf.fit_transform(df.comments)\n"
      ],
      "execution_count": 57,
      "outputs": []
    },
    {
      "cell_type": "code",
      "metadata": {
        "id": "Ucf3IVQFuOTD"
      },
      "source": [
        "from sklearn.model_selection import train_test_split\n",
        "X_train, X_test, y_train, y_test = train_test_split(X,y, random_state= 44, test_size=0.2)\n",
        "                                                   "
      ],
      "execution_count": 58,
      "outputs": []
    },
    {
      "cell_type": "markdown",
      "metadata": {
        "id": "u443NXshu6OQ"
      },
      "source": [
        "LOGISTIC REGRATION\n",
        "\n"
      ]
    },
    {
      "cell_type": "code",
      "metadata": {
        "id": "JPpSp0Dvu5Om",
        "colab": {
          "base_uri": "https://localhost:8080/"
        },
        "outputId": "5348a54b-b806-4690-eed7-7ff1e2110fa8"
      },
      "source": [
        "from sklearn.linear_model import LogisticRegression\n",
        "lc = LogisticRegression()\n",
        "lc.fit(X_train, y_train)"
      ],
      "execution_count": 59,
      "outputs": [
        {
          "output_type": "execute_result",
          "data": {
            "text/plain": [
              "LogisticRegression(C=1.0, class_weight=None, dual=False, fit_intercept=True,\n",
              "                   intercept_scaling=1, l1_ratio=None, max_iter=100,\n",
              "                   multi_class='auto', n_jobs=None, penalty='l2',\n",
              "                   random_state=None, solver='lbfgs', tol=0.0001, verbose=0,\n",
              "                   warm_start=False)"
            ]
          },
          "metadata": {
            "tags": []
          },
          "execution_count": 59
        }
      ]
    },
    {
      "cell_type": "code",
      "metadata": {
        "id": "1gpDpzXiVe8w"
      },
      "source": [
        "from sklearn.metrics import confusion_matrix\n",
        "from sklearn.metrics import classification_report\n",
        "from sklearn.metrics import accuracy_score\n",
        "pred=lc.predict(X_test)"
      ],
      "execution_count": 60,
      "outputs": []
    },
    {
      "cell_type": "code",
      "metadata": {
        "colab": {
          "base_uri": "https://localhost:8080/"
        },
        "id": "hSuyepLNtMC1",
        "outputId": "beb0e092-404c-4630-f4c2-426741778783"
      },
      "source": [
        "print(classification_report(y_test,pred))"
      ],
      "execution_count": 61,
      "outputs": [
        {
          "output_type": "stream",
          "text": [
            "              precision    recall  f1-score   support\n",
            "\n",
            "         bad       0.85      0.89      0.87       446\n",
            "        good       0.91      0.88      0.89       576\n",
            "\n",
            "    accuracy                           0.88      1022\n",
            "   macro avg       0.88      0.88      0.88      1022\n",
            "weighted avg       0.89      0.88      0.88      1022\n",
            "\n"
          ],
          "name": "stdout"
        }
      ]
    },
    {
      "cell_type": "code",
      "metadata": {
        "id": "FVSDHJDlV0AI",
        "colab": {
          "base_uri": "https://localhost:8080/",
          "height": 106
        },
        "outputId": "d4e511a4-c117-420c-fe80-732ca7d0fa8f"
      },
      "source": [
        "mat = confusion_matrix(pred, y_test)\n",
        "pd.DataFrame(mat)"
      ],
      "execution_count": 62,
      "outputs": [
        {
          "output_type": "execute_result",
          "data": {
            "text/html": [
              "<div>\n",
              "<style scoped>\n",
              "    .dataframe tbody tr th:only-of-type {\n",
              "        vertical-align: middle;\n",
              "    }\n",
              "\n",
              "    .dataframe tbody tr th {\n",
              "        vertical-align: top;\n",
              "    }\n",
              "\n",
              "    .dataframe thead th {\n",
              "        text-align: right;\n",
              "    }\n",
              "</style>\n",
              "<table border=\"1\" class=\"dataframe\">\n",
              "  <thead>\n",
              "    <tr style=\"text-align: right;\">\n",
              "      <th></th>\n",
              "      <th>0</th>\n",
              "      <th>1</th>\n",
              "    </tr>\n",
              "  </thead>\n",
              "  <tbody>\n",
              "    <tr>\n",
              "      <th>0</th>\n",
              "      <td>398</td>\n",
              "      <td>71</td>\n",
              "    </tr>\n",
              "    <tr>\n",
              "      <th>1</th>\n",
              "      <td>48</td>\n",
              "      <td>505</td>\n",
              "    </tr>\n",
              "  </tbody>\n",
              "</table>\n",
              "</div>"
            ],
            "text/plain": [
              "     0    1\n",
              "0  398   71\n",
              "1   48  505"
            ]
          },
          "metadata": {
            "tags": []
          },
          "execution_count": 62
        }
      ]
    },
    {
      "cell_type": "markdown",
      "metadata": {
        "id": "gTQBCgrVygXL"
      },
      "source": [
        "KNN\r\n"
      ]
    },
    {
      "cell_type": "code",
      "metadata": {
        "id": "PdbE63AJ0QrK",
        "colab": {
          "base_uri": "https://localhost:8080/"
        },
        "outputId": "93d079ff-8b4e-4b82-cec2-b8fb7f9c617e"
      },
      "source": [
        "from sklearn.neighbors import KNeighborsClassifier\n",
        "neigh = KNeighborsClassifier(n_neighbors=6)\n",
        "neigh.fit(X_train, y_train)"
      ],
      "execution_count": 63,
      "outputs": [
        {
          "output_type": "execute_result",
          "data": {
            "text/plain": [
              "KNeighborsClassifier(algorithm='auto', leaf_size=30, metric='minkowski',\n",
              "                     metric_params=None, n_jobs=None, n_neighbors=6, p=2,\n",
              "                     weights='uniform')"
            ]
          },
          "metadata": {
            "tags": []
          },
          "execution_count": 63
        }
      ]
    },
    {
      "cell_type": "code",
      "metadata": {
        "colab": {
          "base_uri": "https://localhost:8080/",
          "height": 258
        },
        "id": "4QyGYgusv2tN",
        "outputId": "4b76437b-8ff8-4b0f-9dcf-1753bc983448"
      },
      "source": [
        "pred=neigh.predict(X_test)\r\n",
        "print(classification_report(y_test,pred))\r\n",
        "mat = confusion_matrix(pred, y_test)\r\n",
        "pd.DataFrame(mat)"
      ],
      "execution_count": 64,
      "outputs": [
        {
          "output_type": "stream",
          "text": [
            "              precision    recall  f1-score   support\n",
            "\n",
            "         bad       0.81      0.81      0.81       446\n",
            "        good       0.85      0.85      0.85       576\n",
            "\n",
            "    accuracy                           0.83      1022\n",
            "   macro avg       0.83      0.83      0.83      1022\n",
            "weighted avg       0.83      0.83      0.83      1022\n",
            "\n"
          ],
          "name": "stdout"
        },
        {
          "output_type": "execute_result",
          "data": {
            "text/html": [
              "<div>\n",
              "<style scoped>\n",
              "    .dataframe tbody tr th:only-of-type {\n",
              "        vertical-align: middle;\n",
              "    }\n",
              "\n",
              "    .dataframe tbody tr th {\n",
              "        vertical-align: top;\n",
              "    }\n",
              "\n",
              "    .dataframe thead th {\n",
              "        text-align: right;\n",
              "    }\n",
              "</style>\n",
              "<table border=\"1\" class=\"dataframe\">\n",
              "  <thead>\n",
              "    <tr style=\"text-align: right;\">\n",
              "      <th></th>\n",
              "      <th>0</th>\n",
              "      <th>1</th>\n",
              "    </tr>\n",
              "  </thead>\n",
              "  <tbody>\n",
              "    <tr>\n",
              "      <th>0</th>\n",
              "      <td>361</td>\n",
              "      <td>87</td>\n",
              "    </tr>\n",
              "    <tr>\n",
              "      <th>1</th>\n",
              "      <td>85</td>\n",
              "      <td>489</td>\n",
              "    </tr>\n",
              "  </tbody>\n",
              "</table>\n",
              "</div>"
            ],
            "text/plain": [
              "     0    1\n",
              "0  361   87\n",
              "1   85  489"
            ]
          },
          "metadata": {
            "tags": []
          },
          "execution_count": 64
        }
      ]
    }
  ]
}